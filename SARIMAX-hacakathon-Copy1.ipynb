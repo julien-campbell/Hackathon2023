{
 "cells": [
  {
   "cell_type": "code",
   "execution_count": 11,
   "id": "92b6ad6b",
   "metadata": {},
   "outputs": [],
   "source": [
    "import numpy as np\n",
    "import pandas as pd\n",
    "import statsmodels.api as sm\n",
    "import matplotlib.pyplot as plt\n",
    "from statsmodels.tsa.arima.model import ARIMA\n",
    "from statsmodels.tsa.stattools import adfuller\n",
    "import pmdarima as pm\n",
    "from pandas.tseries.offsets import DateOffset\n",
    "%matplotlib inline"
   ]
  },
  {
   "cell_type": "markdown",
   "id": "384da4f6",
   "metadata": {},
   "source": [
    "# Preprocessing Data"
   ]
  },
  {
   "cell_type": "code",
   "execution_count": 12,
   "id": "d8cc652b",
   "metadata": {},
   "outputs": [],
   "source": [
    "def states(raw_data):\n",
    "    df = df= raw_data[['State','Date', 'CO2 Mass (short tons)']].copy()\n",
    "    "
   ]
  },
  {
   "cell_type": "code",
   "execution_count": 13,
   "id": "1d153be5",
   "metadata": {},
   "outputs": [],
   "source": [
    "def preprocessing_data(raw_data):\n",
    "    df= raw_data[['Date', 'CO2 Mass (short tons)']].copy()\n",
    "    df.columns=['Date', 'CO2_Emission']\n",
    "    df['CO2_Emission']=df['CO2_Emission'].fillna(0)\n",
    "    df['Date'] = pd.to_datetime(df['Date'])\n",
    "    df.set_index('Date', inplace=True)\n",
    "    return df"
   ]
  },
  {
   "cell_type": "code",
   "execution_count": 14,
   "id": "8a319f6a",
   "metadata": {},
   "outputs": [],
   "source": [
    "def split_data(raw_data):\n",
    "    train = raw_data[:'2021-12-31']\n",
    "    test  = raw_data['2022-1-1':]\n",
    "    return train, test"
   ]
  },
  {
   "cell_type": "code",
   "execution_count": 15,
   "id": "6a184d8f",
   "metadata": {},
   "outputs": [],
   "source": [
    "def preprocessing_data_to_monthly(raw_data):\n",
    "    df=preprocessing_data(raw_data)\n",
    "    df, test = split_data(df)\n",
    "    return df, test"
   ]
  },
  {
   "cell_type": "code",
   "execution_count": 16,
   "id": "b1f7961c",
   "metadata": {},
   "outputs": [],
   "source": [
    "def preprocessing_data_to_monthly_notest(raw_data):\n",
    "    df=preprocessing_data(raw_data)\n",
    "    return df"
   ]
  },
  {
   "cell_type": "code",
   "execution_count": 17,
   "id": "8391c5cb",
   "metadata": {},
   "outputs": [],
   "source": [
    "def mean_absolute_percentage_error(y_true, y_pred): \n",
    "    MAPE_sum=0\n",
    "    for i in range(0, len(y_true)):\n",
    "        if y_true[i]==0:\n",
    "            MAPE.append(None)\n",
    "            continue\n",
    "        else:\n",
    "            MAPE.append(abs(y_true[i] - y_pred[i])/y_true[i]*100)\n",
    "            MAPE_sum = MAPE_sum+ MAPE[i]\n",
    "    return MAPE_sum/(len(y_true)-1)\n"
   ]
  },
  {
   "cell_type": "code",
   "execution_count": 27,
   "id": "f2d9fbde",
   "metadata": {},
   "outputs": [],
   "source": [
    "def Sarimax(raw_data, st):\n",
    "    df=preprocessing_data_to_monthly_notest(raw_data)\n",
    "    sarimax= pm.auto_arima(df['CO2_Emission'],\n",
    "                           start_p=1, start_q=1,\n",
    "                           test='adf',\n",
    "                           max_p=3, max_q=3, m=12,\n",
    "                           start_P=0, seasonal=True,\n",
    "                           d=None, D=1, trace=True,\n",
    "                           error_action='ignore',\n",
    "                           suppress_warnings=True,\n",
    "                           stepwise=True)\n",
    "    model=sm.tsa.statespace.SARIMAX(df['CO2_Emission'],order=sarimax.order,seasonal_order=sarimax.seasonal_order)\n",
    "    results=model.fit()\n",
    "    future_dates=[df.index[-1]+ DateOffset(months=x)for x in range(0,61)]\n",
    "    future_datest_df=pd.DataFrame(index=future_dates[1:],columns=df.columns)\n",
    "    future_df=pd.concat([df,future_datest_df])\n",
    "    future_df['predicted'] = results.predict(start = len(df.index), end = len(df.index)+61, dynamic= True)  \n",
    "    future_df.to_csv('Sarimax_weekly_result.csv')\n",
    "    final_df = pd.read_csv('Sarimax_weekly_result.csv')\n",
    "    final_df.columns=['Date','Historical', 'Predicted']\n",
    "    final_df['Date'] = pd.to_datetime(final_df['Date'])\n",
    "    final_df.set_index('Date', inplace=True)\n",
    "    final_df['State'] = st\n",
    "    return final_df\n",
    "    \n",
    "    \n"
   ]
  },
  {
   "cell_type": "code",
   "execution_count": 28,
   "id": "ead8980a",
   "metadata": {
    "scrolled": true
   },
   "outputs": [
    {
     "name": "stdout",
     "output_type": "stream",
     "text": [
      "Performing stepwise search to minimize aic\n",
      " ARIMA(1,0,1)(0,1,1)[12] intercept   : AIC=5926.655, Time=0.21 sec\n",
      " ARIMA(0,0,0)(0,1,0)[12] intercept   : AIC=6052.075, Time=0.01 sec\n",
      " ARIMA(1,0,0)(1,1,0)[12] intercept   : AIC=5951.481, Time=0.08 sec\n",
      " ARIMA(0,0,1)(0,1,1)[12] intercept   : AIC=6001.031, Time=0.14 sec\n",
      " ARIMA(0,0,0)(0,1,0)[12]             : AIC=6050.758, Time=0.01 sec\n",
      " ARIMA(1,0,1)(0,1,0)[12] intercept   : AIC=5979.401, Time=0.06 sec\n",
      " ARIMA(1,0,1)(1,1,1)[12] intercept   : AIC=5927.986, Time=0.30 sec\n",
      " ARIMA(1,0,1)(0,1,2)[12] intercept   : AIC=5928.103, Time=0.45 sec\n",
      " ARIMA(1,0,1)(1,1,0)[12] intercept   : AIC=5942.512, Time=0.12 sec\n",
      " ARIMA(1,0,1)(1,1,2)[12] intercept   : AIC=5929.862, Time=0.82 sec\n",
      " ARIMA(1,0,0)(0,1,1)[12] intercept   : AIC=5933.034, Time=0.12 sec\n",
      " ARIMA(2,0,1)(0,1,1)[12] intercept   : AIC=5927.688, Time=0.32 sec\n",
      " ARIMA(1,0,2)(0,1,1)[12] intercept   : AIC=5923.898, Time=0.32 sec\n",
      " ARIMA(1,0,2)(0,1,0)[12] intercept   : AIC=5981.852, Time=0.08 sec\n",
      " ARIMA(1,0,2)(1,1,1)[12] intercept   : AIC=5925.622, Time=0.44 sec\n",
      " ARIMA(1,0,2)(0,1,2)[12] intercept   : AIC=5925.655, Time=0.67 sec\n",
      " ARIMA(1,0,2)(1,1,0)[12] intercept   : AIC=5943.056, Time=0.17 sec\n",
      " ARIMA(1,0,2)(1,1,2)[12] intercept   : AIC=5927.400, Time=1.16 sec\n",
      " ARIMA(0,0,2)(0,1,1)[12] intercept   : AIC=5978.182, Time=0.18 sec\n",
      " ARIMA(2,0,2)(0,1,1)[12] intercept   : AIC=5928.479, Time=0.40 sec\n",
      " ARIMA(1,0,3)(0,1,1)[12] intercept   : AIC=5922.213, Time=0.49 sec\n",
      " ARIMA(1,0,3)(0,1,0)[12] intercept   : AIC=5982.779, Time=0.14 sec\n",
      " ARIMA(1,0,3)(1,1,1)[12] intercept   : AIC=5923.654, Time=0.68 sec\n",
      " ARIMA(1,0,3)(0,1,2)[12] intercept   : AIC=5923.756, Time=0.79 sec\n",
      " ARIMA(1,0,3)(1,1,0)[12] intercept   : AIC=5944.228, Time=0.24 sec\n",
      " ARIMA(1,0,3)(1,1,2)[12] intercept   : AIC=5925.319, Time=1.54 sec\n",
      " ARIMA(0,0,3)(0,1,1)[12] intercept   : AIC=5964.932, Time=0.24 sec\n",
      " ARIMA(2,0,3)(0,1,1)[12] intercept   : AIC=5922.806, Time=0.76 sec\n",
      " ARIMA(1,0,3)(0,1,1)[12]             : AIC=5920.195, Time=0.47 sec\n",
      " ARIMA(1,0,3)(0,1,0)[12]             : AIC=5980.778, Time=0.14 sec\n",
      " ARIMA(1,0,3)(1,1,1)[12]             : AIC=5921.624, Time=0.66 sec\n",
      " ARIMA(1,0,3)(0,1,2)[12]             : AIC=5921.732, Time=1.07 sec\n",
      " ARIMA(1,0,3)(1,1,0)[12]             : AIC=5942.229, Time=0.21 sec\n",
      " ARIMA(1,0,3)(1,1,2)[12]             : AIC=5923.254, Time=1.64 sec\n",
      " ARIMA(0,0,3)(0,1,1)[12]             : AIC=5963.080, Time=0.22 sec\n",
      " ARIMA(1,0,2)(0,1,1)[12]             : AIC=5921.950, Time=0.36 sec\n",
      " ARIMA(2,0,3)(0,1,1)[12]             : AIC=5920.689, Time=0.96 sec\n",
      " ARIMA(0,0,2)(0,1,1)[12]             : AIC=5976.570, Time=0.17 sec\n",
      " ARIMA(2,0,2)(0,1,1)[12]             : AIC=5926.701, Time=0.39 sec\n",
      "\n",
      "Best model:  ARIMA(1,0,3)(0,1,1)[12]          \n",
      "Total fit time: 17.254 seconds\n"
     ]
    },
    {
     "name": "stderr",
     "output_type": "stream",
     "text": [
      "C:\\Users\\james.hwang\\Anaconda3\\lib\\site-packages\\statsmodels\\tsa\\base\\tsa_model.py:471: ValueWarning: No frequency information was provided, so inferred frequency MS will be used.\n",
      "  self._init_dates(dates, freq)\n",
      "C:\\Users\\james.hwang\\Anaconda3\\lib\\site-packages\\statsmodels\\tsa\\base\\tsa_model.py:471: ValueWarning: No frequency information was provided, so inferred frequency MS will be used.\n",
      "  self._init_dates(dates, freq)\n"
     ]
    }
   ],
   "source": [
    "data=[]\n",
    "raw_data = pd.read_csv('monthly.csv')\n",
    "dfer= raw_data[['Date', 'CO2 Mass (short tons)', 'State']].copy() #filters to these columns\n",
    "#states = dfer['State'].unique() #array of each state\n",
    "states= ['CA']\n",
    "for st in states:\n",
    "    data_state = dfer.loc[dfer['State']== st] #filters for data for that specific state\n",
    "    data.append(Sarimax(data_state, st))\n",
    "    \n",
    "final_data = pd.concat(data)\n",
    "final_data.to_csv('final_data2027.csv')"
   ]
  },
  {
   "cell_type": "code",
   "execution_count": 22,
   "id": "d3b91225",
   "metadata": {},
   "outputs": [
    {
     "data": {
      "text/html": [
       "<div>\n",
       "<style scoped>\n",
       "    .dataframe tbody tr th:only-of-type {\n",
       "        vertical-align: middle;\n",
       "    }\n",
       "\n",
       "    .dataframe tbody tr th {\n",
       "        vertical-align: top;\n",
       "    }\n",
       "\n",
       "    .dataframe thead th {\n",
       "        text-align: right;\n",
       "    }\n",
       "</style>\n",
       "<table border=\"1\" class=\"dataframe\">\n",
       "  <thead>\n",
       "    <tr style=\"text-align: right;\">\n",
       "      <th></th>\n",
       "      <th>Date</th>\n",
       "      <th>CO2 Mass (short tons)</th>\n",
       "      <th>State</th>\n",
       "    </tr>\n",
       "  </thead>\n",
       "  <tbody>\n",
       "    <tr>\n",
       "      <th>0</th>\n",
       "      <td>2005-01-01</td>\n",
       "      <td>7828972.171</td>\n",
       "      <td>AL</td>\n",
       "    </tr>\n",
       "    <tr>\n",
       "      <th>1</th>\n",
       "      <td>2005-02-01</td>\n",
       "      <td>6443405.776</td>\n",
       "      <td>AL</td>\n",
       "    </tr>\n",
       "    <tr>\n",
       "      <th>2</th>\n",
       "      <td>2005-03-01</td>\n",
       "      <td>7296086.599</td>\n",
       "      <td>AL</td>\n",
       "    </tr>\n",
       "    <tr>\n",
       "      <th>3</th>\n",
       "      <td>2005-04-01</td>\n",
       "      <td>6049318.953</td>\n",
       "      <td>AL</td>\n",
       "    </tr>\n",
       "    <tr>\n",
       "      <th>4</th>\n",
       "      <td>2005-05-01</td>\n",
       "      <td>6848692.033</td>\n",
       "      <td>AL</td>\n",
       "    </tr>\n",
       "    <tr>\n",
       "      <th>...</th>\n",
       "      <td>...</td>\n",
       "      <td>...</td>\n",
       "      <td>...</td>\n",
       "    </tr>\n",
       "    <tr>\n",
       "      <th>10579</th>\n",
       "      <td>2022-08-01</td>\n",
       "      <td>4435549.961</td>\n",
       "      <td>WY</td>\n",
       "    </tr>\n",
       "    <tr>\n",
       "      <th>10580</th>\n",
       "      <td>2022-09-01</td>\n",
       "      <td>4010366.330</td>\n",
       "      <td>WY</td>\n",
       "    </tr>\n",
       "    <tr>\n",
       "      <th>10581</th>\n",
       "      <td>2022-10-01</td>\n",
       "      <td>3944799.551</td>\n",
       "      <td>WY</td>\n",
       "    </tr>\n",
       "    <tr>\n",
       "      <th>10582</th>\n",
       "      <td>2022-11-01</td>\n",
       "      <td>3458120.066</td>\n",
       "      <td>WY</td>\n",
       "    </tr>\n",
       "    <tr>\n",
       "      <th>10583</th>\n",
       "      <td>2022-12-01</td>\n",
       "      <td>3332083.518</td>\n",
       "      <td>WY</td>\n",
       "    </tr>\n",
       "  </tbody>\n",
       "</table>\n",
       "<p>10584 rows × 3 columns</p>\n",
       "</div>"
      ],
      "text/plain": [
       "             Date  CO2 Mass (short tons) State\n",
       "0      2005-01-01            7828972.171    AL\n",
       "1      2005-02-01            6443405.776    AL\n",
       "2      2005-03-01            7296086.599    AL\n",
       "3      2005-04-01            6049318.953    AL\n",
       "4      2005-05-01            6848692.033    AL\n",
       "...           ...                    ...   ...\n",
       "10579  2022-08-01            4435549.961    WY\n",
       "10580  2022-09-01            4010366.330    WY\n",
       "10581  2022-10-01            3944799.551    WY\n",
       "10582  2022-11-01            3458120.066    WY\n",
       "10583  2022-12-01            3332083.518    WY\n",
       "\n",
       "[10584 rows x 3 columns]"
      ]
     },
     "execution_count": 22,
     "metadata": {},
     "output_type": "execute_result"
    }
   ],
   "source": []
  },
  {
   "cell_type": "code",
   "execution_count": 26,
   "id": "6146504f",
   "metadata": {},
   "outputs": [],
   "source": [
    "final_data.to_csv('final_data2027.csv')"
   ]
  },
  {
   "cell_type": "code",
   "execution_count": null,
   "id": "9c36b868",
   "metadata": {},
   "outputs": [],
   "source": []
  }
 ],
 "metadata": {
  "kernelspec": {
   "display_name": "Python 3 (ipykernel)",
   "language": "python",
   "name": "python3"
  },
  "language_info": {
   "codemirror_mode": {
    "name": "ipython",
    "version": 3
   },
   "file_extension": ".py",
   "mimetype": "text/x-python",
   "name": "python",
   "nbconvert_exporter": "python",
   "pygments_lexer": "ipython3",
   "version": "3.9.12"
  }
 },
 "nbformat": 4,
 "nbformat_minor": 5
}
